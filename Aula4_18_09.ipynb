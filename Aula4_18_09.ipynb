{
  "nbformat": 4,
  "nbformat_minor": 0,
  "metadata": {
    "colab": {
      "provenance": [],
      "authorship_tag": "ABX9TyPa8RJ13pHYkTW4mo5+JCCr",
      "include_colab_link": true
    },
    "kernelspec": {
      "name": "python3",
      "display_name": "Python 3"
    },
    "language_info": {
      "name": "python"
    }
  },
  "cells": [
    {
      "cell_type": "markdown",
      "metadata": {
        "id": "view-in-github",
        "colab_type": "text"
      },
      "source": [
        "<a href=\"https://colab.research.google.com/github/moralehub/TurmaCIVIL/blob/main/Aula4_18_09.ipynb\" target=\"_parent\"><img src=\"https://colab.research.google.com/assets/colab-badge.svg\" alt=\"Open In Colab\"/></a>"
      ]
    },
    {
      "cell_type": "markdown",
      "source": [
        "# **AULA 4**\n",
        "LOOP FOR\n",
        "\n",
        "Controle de loop (ou Estrutura de Repetição): realiza e repete uma ou mais\n",
        "ações dependendo da condição (se verdadeira ou falsa). Condição esta que é\n",
        "processada em uma valor booleano como no teste de condição.\n",
        "\n",
        "**Necessita de uma variável de controle que define o número de\n",
        "execuções do laço logico.**\n",
        "\n"
      ],
      "metadata": {
        "id": "7pBriIXfXNy0"
      }
    },
    {
      "cell_type": "markdown",
      "source": [
        "Fluxograma do Loop FOR\n",
        "\n",
        "for variavel(Valor_Inicial, Valor_Final, Passo)\n",
        "\n",
        "{Instrução ou Bloco de instruções;}"
      ],
      "metadata": {
        "id": "swBoaBGZp7JL"
      }
    },
    {
      "cell_type": "markdown",
      "source": [
        "Narrativa\n",
        "\n",
        "inicio:\n",
        "\n",
        "inteiro = 0\n",
        "\n",
        "Atribuir 0 a variavel i\n",
        "\n",
        "i <= 0\n",
        "\n",
        "(if)\"Se verdadeiro então: \"\n",
        "\n",
        "  Converter i para radiano\n",
        "   \n",
        "  Exibir seno de i (radiano)\n",
        "   \n",
        "  Incrementar i de 5 unidades\n",
        "   \n",
        "Senão (else)\n",
        "\n",
        "  Sair do Loop\n",
        "   \n",
        "Fim"
      ],
      "metadata": {
        "id": "JW2MKNfSqCEU"
      }
    },
    {
      "cell_type": "markdown",
      "source": [
        "# **EXEMPLO LOO´P**\n",
        "FOR in RANGE"
      ],
      "metadata": {
        "id": "h9jEuKqmZBk9"
      }
    },
    {
      "cell_type": "code",
      "source": [
        "#Para contar de 7 até 20 de 5 em 5\n",
        "#for VARIAVEL in RANGE(inicio, fim, espaço)\n",
        "for i in range(7, 20, 5):\n",
        "  print(i)\n",
        "\n"
      ],
      "metadata": {
        "id": "Oybk2DviabmX",
        "outputId": "35ffb3e1-114f-4a91-9a9a-2d253bcc0931",
        "colab": {
          "base_uri": "https://localhost:8080/"
        }
      },
      "execution_count": 15,
      "outputs": [
        {
          "output_type": "stream",
          "name": "stdout",
          "text": [
            "7\n",
            "12\n",
            "17\n"
          ]
        }
      ]
    }
  ]
}