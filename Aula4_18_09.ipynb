{
  "nbformat": 4,
  "nbformat_minor": 0,
  "metadata": {
    "colab": {
      "provenance": [],
      "authorship_tag": "ABX9TyPRi5aoYsUI5EPGJUtbGPkh",
      "include_colab_link": true
    },
    "kernelspec": {
      "name": "python3",
      "display_name": "Python 3"
    },
    "language_info": {
      "name": "python"
    }
  },
  "cells": [
    {
      "cell_type": "markdown",
      "metadata": {
        "id": "view-in-github",
        "colab_type": "text"
      },
      "source": [
        "<a href=\"https://colab.research.google.com/github/moralehub/TurmaCIVIL/blob/main/Aula4_18_09.ipynb\" target=\"_parent\"><img src=\"https://colab.research.google.com/assets/colab-badge.svg\" alt=\"Open In Colab\"/></a>"
      ]
    },
    {
      "cell_type": "markdown",
      "source": [
        "# **AULA 4**\n",
        "LOOP FOR\n",
        "\n",
        "Controle de loop (ou Estrutura de Repetição): realiza e repete uma ou mais\n",
        "ações dependendo da condição (se verdadeira ou falsa). Condição esta que é\n",
        "processada em uma valor booleano como no teste de condição.\n",
        "\n",
        "**Necessita de uma variável de controle que define o número de\n",
        "execuções do laço logico.**\n",
        "\n"
      ],
      "metadata": {
        "id": "7pBriIXfXNy0"
      }
    },
    {
      "cell_type": "code",
      "execution_count": null,
      "metadata": {
        "id": "ZXDgkYSlSsvC"
      },
      "outputs": [],
      "source": [
        "#Fluxograma do Loop FOR\n",
        "#for variavel(Valor_Inicial, Valor_Final, Passo)\n",
        "#{Instrução ou Bloco de instruções;}"
      ]
    },
    {
      "cell_type": "code",
      "source": [
        "#Narrativa: inicio:\n",
        "#inteiro = 0\n",
        "#Atribuir 0 a variavel i\n",
        "#i <= 0\n",
        "#(if)\"Se verdadeiro então: \"\n",
        "  #Converter i para radiano\n",
        "  #Exibir seno de i (radiano)\n",
        "  #Incrementar i de 5 unidades\n",
        "#Senão (else)\n",
        "  #Sair do Loop\n",
        "#Fim\n"
      ],
      "metadata": {
        "id": "4ItdP6MeY9UY"
      },
      "execution_count": 1,
      "outputs": []
    },
    {
      "cell_type": "markdown",
      "source": [
        "# **EXEMPLO 06**\n",
        "Elaborar um programa para tabelar todos os valores dos ângulos\n",
        "de 0º a 360º com intervalo de 5º e seus respectivos senos."
      ],
      "metadata": {
        "id": "h9jEuKqmZBk9"
      }
    },
    {
      "cell_type": "code",
      "source": [
        "#importar math\n",
        "import math\n",
        "from math import pi, sin\n",
        "\n",
        "#Gerar os valores dos ângulos de 0° a 360° com intervalos de 5°\n",
        "for angulo in range(0, 360, 5):\n",
        "  #Converte o angulo de graus para radiano\n",
        "  radianos = math.radians(angulo)\n",
        "  #Calcula o seno do angulo\n",
        "  seno = math.sin(radianos)\n",
        "\n",
        ""
      ],
      "metadata": {
        "id": "Oybk2DviabmX"
      },
      "execution_count": 13,
      "outputs": []
    }
  ]
}