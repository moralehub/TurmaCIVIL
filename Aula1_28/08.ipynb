{
  "nbformat": 4,
  "nbformat_minor": 0,
  "metadata": {
    "colab": {
      "provenance": [],
      "authorship_tag": "ABX9TyPaC4h2fTqmVSR6K46hM4ha",
      "include_colab_link": true
    },
    "kernelspec": {
      "name": "python3",
      "display_name": "Python 3"
    },
    "language_info": {
      "name": "python"
    }
  },
  "cells": [
    {
      "cell_type": "markdown",
      "metadata": {
        "id": "view-in-github",
        "colab_type": "text"
      },
      "source": [
        "<a href=\"https://colab.research.google.com/github/moralehub/TurmaCIVIL/blob/main/Aula1_28/08.ipynb\" target=\"_parent\"><img src=\"https://colab.research.google.com/assets/colab-badge.svg\" alt=\"Open In Colab\"/></a>"
      ]
    },
    {
      "cell_type": "markdown",
      "source": [
        "# **Explicação Professor**\n",
        "Explicação e observações de comando"
      ],
      "metadata": {
        "id": "fYkJjqShnwi3"
      }
    },
    {
      "cell_type": "code",
      "execution_count": 17,
      "metadata": {
        "colab": {
          "base_uri": "https://localhost:8080/"
        },
        "id": "v4IQgyGdekpN",
        "outputId": "ba3baafc-f59d-431a-dc08-c5803ffae407"
      },
      "outputs": [
        {
          "output_type": "stream",
          "name": "stdout",
          "text": [
            "<class 'int'>\n",
            "<class 'float'>\n",
            "<class 'float'>\n",
            "5.0\n"
          ]
        }
      ],
      "source": [
        "#comentario de codigo\n",
        "a = 2\n",
        "print(type(a))\n",
        "b = 3.0\n",
        "print(type(b))\n",
        "soma = a+b\n",
        "print(type(soma))\n",
        "print(soma)\n"
      ]
    },
    {
      "cell_type": "code",
      "source": [
        "num = int(input(\"Digite um numero>: \"))\n",
        "quoc = num/2\n",
        "resto = num%2\n",
        "print(\"Quociente = \",quoc)\n",
        "print(\"Resto = \",resto)"
      ],
      "metadata": {
        "colab": {
          "base_uri": "https://localhost:8080/"
        },
        "id": "ySrc-iecpRzJ",
        "outputId": "b7d8e76f-2676-40b7-d56d-14deed7edec2"
      },
      "execution_count": 21,
      "outputs": [
        {
          "output_type": "stream",
          "name": "stdout",
          "text": [
            "Digite um numero>: 9\n",
            "Quociente =  4.5\n",
            "Resto =  1\n"
          ]
        }
      ]
    },
    {
      "cell_type": "markdown",
      "source": [
        "# **PROGRAMA PARA CALCULAR A MÉDIA DE 2 VALORES**"
      ],
      "metadata": {
        "id": "YWEt10BnqOVW"
      }
    },
    {
      "cell_type": "code",
      "source": [
        "v1 = int(input(\"Digite o primeiro valor: \"))\n",
        "v2 = int(input(\"Digite o segundo valor: \"))\n",
        "media = (v1+v2)/2\n",
        "print(\"A média é: \",media)"
      ],
      "metadata": {
        "colab": {
          "base_uri": "https://localhost:8080/"
        },
        "id": "Xp1xg9edqWnY",
        "outputId": "5ebb832c-9182-4496-d9a8-2202e030ee86"
      },
      "execution_count": 23,
      "outputs": [
        {
          "output_type": "stream",
          "name": "stdout",
          "text": [
            "Digite o primeiro valor: 8\n",
            "Digite o segundo valor: 6\n",
            "A média é:  7.0\n"
          ]
        }
      ]
    }
  ]
}