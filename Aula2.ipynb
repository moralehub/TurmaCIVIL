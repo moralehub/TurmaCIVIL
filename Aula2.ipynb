{
  "nbformat": 4,
  "nbformat_minor": 0,
  "metadata": {
    "colab": {
      "provenance": [],
      "authorship_tag": "ABX9TyNj6DgAR+ril1Mwc9Vaa2jF",
      "include_colab_link": true
    },
    "kernelspec": {
      "name": "python3",
      "display_name": "Python 3"
    },
    "language_info": {
      "name": "python"
    }
  },
  "cells": [
    {
      "cell_type": "markdown",
      "metadata": {
        "id": "view-in-github",
        "colab_type": "text"
      },
      "source": [
        "<a href=\"https://colab.research.google.com/github/moralehub/TurmaCIVIL/blob/main/Aula2.ipynb\" target=\"_parent\"><img src=\"https://colab.research.google.com/assets/colab-badge.svg\" alt=\"Open In Colab\"/></a>"
      ]
    },
    {
      "cell_type": "markdown",
      "source": [
        "# **Explicação Professor** 04/09\n",
        "Observações e comandos\n",
        "\n",
        "Conversão de polegadas para milimetro\n",
        "\n",
        "**float**: Numeros reais, com ponto ex: 25.4"
      ],
      "metadata": {
        "id": "L44tGFOwh8-R"
      }
    },
    {
      "cell_type": "code",
      "execution_count": 7,
      "metadata": {
        "colab": {
          "base_uri": "https://localhost:8080/"
        },
        "id": "_eCHWqExfanM",
        "outputId": "bd133083-ce49-4f7d-fdad-3925f796f107"
      },
      "outputs": [
        {
          "output_type": "stream",
          "name": "stdout",
          "text": [
            "digite valor em polegadas2\n",
            "valor em milimetro:  50.8\n"
          ]
        }
      ],
      "source": [
        "#Solicita que o usuario insira uma medida de polegadas\n",
        "polegadas = float(input(\"digite valor em polegadas\"))\n",
        "\n",
        "#Converte a medida para milimetros (1 polegada=25.4)\n",
        "milimetro = polegadas * 25.4\n",
        "\n",
        "#Exibe o resultado\n",
        "print(\"valor em milimetro: \",milimetro)\n"
      ]
    },
    {
      "cell_type": "markdown",
      "source": [
        "# **Exercicio 5**\n",
        "Calculo de Volume de esfera"
      ],
      "metadata": {
        "id": "SgIHM3t-jm3M"
      }
    },
    {
      "cell_type": "code",
      "source": [
        "#Usuario solicita a medida do raio e importamos o pi\n",
        "from math import pi\n",
        "\n",
        "raio = float(input(\"Digite o valor do raio: \"))\n",
        "\n",
        "#Calcula e exibe o valor em volume (v=4*pi**r3)\n",
        "volume = (4/3)*pi*(raio**3)\n",
        "\n",
        "#Exibir o resultado (v)\n",
        "print(\"O volume da esfera é: \",volume)\n"
      ],
      "metadata": {
        "colab": {
          "base_uri": "https://localhost:8080/"
        },
        "id": "xaXtSv9Vj8qu",
        "outputId": "9a481011-b2ac-4cb8-9093-dd73bc97e2f4"
      },
      "execution_count": 21,
      "outputs": [
        {
          "output_type": "stream",
          "name": "stdout",
          "text": [
            "Digite o valor do raio: 10\n",
            "O volume da esfera é:  4188.790204786391\n"
          ]
        }
      ]
    },
    {
      "cell_type": "markdown",
      "source": [
        "# **Exercicio 6**\n",
        "Concversaão de Graus (g) para valor radianos (vrad)\n",
        "\n"
      ],
      "metadata": {
        "id": "pp90vjxjofRV"
      }
    },
    {
      "cell_type": "code",
      "source": [
        "#Usuario solicita a medida do grau e importamos o pi\n",
        "from math import pi\n",
        "\n",
        "grau = float(input(\"Digite o valor em graus: \"))\n",
        "\n",
        "#Converte o valor de graus para radiano\n",
        "radianos = grau*pi/180\n",
        "\n",
        "#Exibir o resultado (vrad)\n",
        "print(\"O valor em radianos é: \",radianos)\n"
      ],
      "metadata": {
        "colab": {
          "base_uri": "https://localhost:8080/"
        },
        "id": "fw7hPQ_8pJrb",
        "outputId": "1afa9711-1858-4a87-c5c8-4fdd5d19b4af"
      },
      "execution_count": 19,
      "outputs": [
        {
          "output_type": "stream",
          "name": "stdout",
          "text": [
            "Digite o valor em graus: 10\n",
            "O valor em radianos é:  0.17453292519943295\n"
          ]
        }
      ]
    },
    {
      "cell_type": "markdown",
      "source": [
        "# **Exercicio 7**\n",
        "Converter o valor em ângulo radiano em graus"
      ],
      "metadata": {
        "id": "oHPtfJvqqYPh"
      }
    },
    {
      "cell_type": "code",
      "source": [
        "#Usuario solicita a medida do radianos e importamos o pi\n",
        "from math import pi\n",
        "\n",
        "radianos = float(input(\"Digite o valor em radianos: \"))\n",
        "\n",
        "#Converte o valor de graus para radiano\n",
        "graus = radianos*180/pi\n",
        "\n",
        "#Exibir o resultado (vrad)\n",
        "print(\"O valor em graus é: \",graus)\n"
      ],
      "metadata": {
        "colab": {
          "base_uri": "https://localhost:8080/"
        },
        "id": "dPPaUrzRqvky",
        "outputId": "39954ad3-5551-4e7d-ec7a-2496568a2de2"
      },
      "execution_count": 20,
      "outputs": [
        {
          "output_type": "stream",
          "name": "stdout",
          "text": [
            "Digite o valor em radianos: 10\n",
            "O valor em graus é:  572.9577951308232\n"
          ]
        }
      ]
    },
    {
      "cell_type": "markdown",
      "source": [
        "# **Exercicio 8**\n",
        "Converter ângulos em radianos, e converta essa valor para grados"
      ],
      "metadata": {
        "id": "py-Fu8PirRcf"
      }
    },
    {
      "cell_type": "code",
      "source": [
        "#Usuario solicita a medida do angulo e importamos pi\n",
        "from math import pi\n",
        "\n",
        "angulo = float(input(\"Digite o valor do angulo: \"))\n",
        "\n",
        "#Converte o valor de angulo\n",
        "radianos = angulo*pi/180\n",
        "\n",
        "#400 grados equivalem a 2*pi radianos (converter o valor de radiano em grado)\n",
        "grado = (radianos*400)/(2*pi)\n",
        "\n",
        "#Exibir o resultado (vrad)\n",
        "print(\"O valor em grados é: \",grado)\n",
        "\n"
      ],
      "metadata": {
        "colab": {
          "base_uri": "https://localhost:8080/"
        },
        "id": "y1T9B68zr6Bc",
        "outputId": "e641a750-7cb7-41c0-c294-d8de7753544a"
      },
      "execution_count": 41,
      "outputs": [
        {
          "output_type": "stream",
          "name": "stdout",
          "text": [
            "Digite o valor do angulo: 6.28\n",
            "O valor em grados é:  6.977777777777778\n"
          ]
        }
      ]
    }
  ]
}