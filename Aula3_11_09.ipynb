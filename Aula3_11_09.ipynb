{
  "nbformat": 4,
  "nbformat_minor": 0,
  "metadata": {
    "colab": {
      "provenance": [],
      "authorship_tag": "ABX9TyNkNcJD7QwEqjWEvTY1UV2F",
      "include_colab_link": true
    },
    "kernelspec": {
      "name": "python3",
      "display_name": "Python 3"
    },
    "language_info": {
      "name": "python"
    }
  },
  "cells": [
    {
      "cell_type": "markdown",
      "metadata": {
        "id": "view-in-github",
        "colab_type": "text"
      },
      "source": [
        "<a href=\"https://colab.research.google.com/github/moralehub/TurmaCIVIL/blob/main/Aula3_11_09.ipynb\" target=\"_parent\"><img src=\"https://colab.research.google.com/assets/colab-badge.svg\" alt=\"Open In Colab\"/></a>"
      ]
    },
    {
      "cell_type": "markdown",
      "source": [
        "# **Aula 3 11/09**\n",
        "If e Else, SE(If)...SENÃO (Else)\n",
        "\n",
        "Uma variação da estrutura apresentada anteriormente\n",
        "é SE/ENTÃO/SENÃO; em que temos uma cláusula que\n",
        "permite a execução de outra instrução ou bloco de instrução no caso de a avaliação for falsa.\n"
      ],
      "metadata": {
        "id": "kopvNJjkUErm"
      }
    },
    {
      "cell_type": "markdown",
      "source": [
        "# **Exemplo3**\n",
        "um\n",
        "programa para ler um número digitado pelo usuário no seu teclado e\n",
        "verificar e informar se o número digitado é par ou ímpar.\n",
        "\n",
        "F significa formatar\n",
        "\n",
        "**if**(se) **else**(senão)\n",
        "\n",
        "comando: #se(if) numero resto (%) da divisão por 2 for ==0:"
      ],
      "metadata": {
        "id": "vegRtBIciefs"
      }
    },
    {
      "cell_type": "code",
      "execution_count": null,
      "metadata": {
        "colab": {
          "base_uri": "https://localhost:8080/"
        },
        "id": "ckSfOXC-gq7-",
        "outputId": "3f5fb025-40f3-4821-a36c-3d41a2e2f5af"
      },
      "outputs": [
        {
          "output_type": "stream",
          "name": "stdout",
          "text": [
            "Digite o número inteiro: 274931545\n",
            "O número 274931545 é impar.\n"
          ]
        }
      ],
      "source": [
        "#solicita ao usario que insira um numero\n",
        "numero = int(input(\"Digite o número inteiro: \"))\n",
        "\n",
        "#verifica se o numero é par ou impar\n",
        "if numero % 2==0:\n",
        "  print(f\"O número {numero} é par.\")\n",
        "\n",
        "#caso o numero seja impar\n",
        "else:\n",
        "  print(f\"O número {numero} é impar.\")\n"
      ]
    },
    {
      "cell_type": "markdown",
      "source": [
        "# **Exemplo4**\n",
        "um programa para ler um\n",
        "número digitado pelo usuário no seu teclado e verificar e calcular raiz\n",
        "quadrada para valores Maiores ou iguais a zero; caso exibir a mensagem\n",
        "“Não existe raiz real para este número!”."
      ],
      "metadata": {
        "id": "sXKnCs_Do1Ls"
      }
    },
    {
      "cell_type": "code",
      "source": [
        "import math\n",
        "\n",
        "#solicita ao usuario que insere um número\n",
        "numero = float(input(\"Digite um numero: \"))\n",
        "\n",
        "#verifica se o numero é maior ou igual a zero\n",
        "if numero >= 0:\n",
        "  raiz = math.sqrt(numero)\n",
        "  print(f\"A raiz quadrada de {numero} é {raiz:2f}.\")\n",
        "\n",
        "  #caso o numero seja menor que zero\n",
        "else:\n",
        "  print(\"Não existe raiz real para este número!\")"
      ],
      "metadata": {
        "colab": {
          "base_uri": "https://localhost:8080/"
        },
        "id": "gafjGuTOo0fd",
        "outputId": "1346c3da-abe3-4433-efd1-76a296d9b9d4"
      },
      "execution_count": null,
      "outputs": [
        {
          "output_type": "stream",
          "name": "stdout",
          "text": [
            "Digite um numero: -12\n",
            "Não existe raiz real para este número!\n"
          ]
        }
      ]
    },
    {
      "cell_type": "markdown",
      "source": [
        "# **Exemplo5**\n",
        "Elaborar o Pseudocódigo, fluxograma e\n",
        "código de um programa para exibir o\n",
        "tamanho da camiseta manga curta, “PP”,\n",
        "“P”, “M”, “G”, “GG” ou “XGG”, ao solicitar\n",
        "ao usuário que ele insira os valores de\n",
        "comprimento e Largura.\n"
      ],
      "metadata": {
        "id": "fZZA37lbrWV0"
      }
    },
    {
      "cell_type": "code",
      "source": [
        "#solicitar ao usuario o comprimento e a largura da camiseta\n",
        "comprimento = float(input(\"Digite o comprimento da camiseta: \"))\n",
        "largura = float(input(\"Digite a largura da camiseta\"))\n",
        "\n",
        "#verifica o tamanho da camiseta com base da largura e comprimento\n",
        "if comprimento <= 66 and largura <= 50:\n",
        "  Tamanho = \"PP\"\n",
        "elif comprimento <= 70 and largura <= 54:\n",
        "  Tamanho = \"P\"\n",
        "elif comprimento <= 72 and largura <= 56:\n",
        "  Tamanho = \"M\"\n",
        "elif comprimento <= 74 and largura <= 58:\n",
        "  Tamanho = \"G\"\n",
        "elif comprimento <= 76 and largura <= 60:\n",
        "  Tamanho = \"GG\"\n",
        "\n",
        "else:\n",
        "  Tamanho = \"XGG\"\n",
        "\n",
        "#Exibe o tamanho da camiseta\n",
        "print(f\"O tamanho da camiseta é {Tamanho}.\")\n"
      ],
      "metadata": {
        "id": "rX-2gaxNrWEN",
        "colab": {
          "base_uri": "https://localhost:8080/"
        },
        "outputId": "081e75ab-ed4a-4d90-c2e9-cab39a55a042"
      },
      "execution_count": 1,
      "outputs": [
        {
          "output_type": "stream",
          "name": "stdout",
          "text": [
            "Digite o comprimento da camiseta: 67\n",
            "Digite a largura da camiseta59\n",
            "O tamanho da camiseta é GG.\n"
          ]
        }
      ]
    }
  ]
}