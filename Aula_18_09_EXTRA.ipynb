{
  "nbformat": 4,
  "nbformat_minor": 0,
  "metadata": {
    "colab": {
      "provenance": [],
      "authorship_tag": "ABX9TyP8/Bn5P4BBCJEQVq0pfXAK",
      "include_colab_link": true
    },
    "kernelspec": {
      "name": "python3",
      "display_name": "Python 3"
    },
    "language_info": {
      "name": "python"
    }
  },
  "cells": [
    {
      "cell_type": "markdown",
      "metadata": {
        "id": "view-in-github",
        "colab_type": "text"
      },
      "source": [
        "<a href=\"https://colab.research.google.com/github/moralehub/TurmaCIVIL/blob/main/Aula_18_09_EXTRA.ipynb\" target=\"_parent\"><img src=\"https://colab.research.google.com/assets/colab-badge.svg\" alt=\"Open In Colab\"/></a>"
      ]
    },
    {
      "cell_type": "markdown",
      "source": [
        "# ***AULA 4 18/09***\n"
      ],
      "metadata": {
        "id": "_dMB5DIPnfYG"
      }
    },
    {
      "cell_type": "markdown",
      "source": [
        "# **Exercicios EXTRAS**\n",
        "01  Elaborar um programa em python que solicite ao\n",
        "usuário um valor inteiro e em seguida informe ao usuário se o valor é múltiplo de 3 ou não. A seguir o pseudocódigo referente ao algoritmo do programa:\n",
        "\n",
        "Início\n",
        "\n",
        " inteiro: x, r\n",
        "  \n",
        " Ler x\n",
        "  \n",
        " r = resto da divisao de x por 3\n",
        "  \n",
        " se (r==0) então:\n",
        "  \n",
        " escrever \"Múltiplo\"\n",
        "  \n",
        " senão:\n",
        "  \n",
        " escrever \"Não múltiplo\"\n",
        "  \n",
        " fim se\n"
      ],
      "metadata": {
        "id": "Hr6gj2KCjK9Y"
      }
    },
    {
      "cell_type": "code",
      "execution_count": null,
      "metadata": {
        "colab": {
          "base_uri": "https://localhost:8080/"
        },
        "id": "0X1hc2jFi2Yy",
        "outputId": "f48c84d4-546d-44b2-e95a-5401bf2676d9"
      },
      "outputs": [
        {
          "output_type": "stream",
          "name": "stdout",
          "text": [
            "Digite um número inteiro: 16\n",
            "Não múltiplo\n"
          ]
        }
      ],
      "source": [
        " #Solicita ao usuario que insira o número inteiro\n",
        "x = int(input(\"Digite um número inteiro: \"))\n",
        "\n",
        "#Verifica se o número é múltiplo de 3\n",
        "x = x % 3\n",
        "if x == 0:\n",
        "    print(\"Múltiplo\")\n",
        "else:\n",
        "    print(\"Não múltiplo\")"
      ]
    },
    {
      "cell_type": "markdown",
      "source": [
        "# **Exercicio EXTRA**\n",
        "02) Dadas as notas a e b de um aluno, com pesos respectivamente 2 e 3; pede-se elaborar um programa em Python para calcular e exibir a média ponderada do aluno, verificar e informar, junto ao valor da sua média, se foi aprovado ou não (OBS: Considere aprovado se obtiver média igual ou superior a 5).\n"
      ],
      "metadata": {
        "id": "ptatgxjElP22"
      }
    },
    {
      "cell_type": "code",
      "source": [
        "#Solicita os valores das notas A e B\n",
        "a = float(input(\"Digite a nota A: \"))\n",
        "b = float(input(\"Digite a nota B: \"))\n",
        "\n",
        "#Calcular a media ponderada\n",
        "media_ponderada = (a * 2 + b * 3) / 5\n",
        "print(\"A média ponderada é:\", media_ponderada)\n",
        "\n",
        "#Verificar se o aluno foi aprovado\n",
        "if media_ponderada >= 5:\n",
        "    print(\"O aluno foi aprovado\")\n",
        "else:\n",
        "    print(\"O aluno foi reprovado\")\n"
      ],
      "metadata": {
        "colab": {
          "base_uri": "https://localhost:8080/"
        },
        "id": "exjS_e_GlPrn",
        "outputId": "61f0b6ef-4025-48d7-8fed-121dc2791f06"
      },
      "execution_count": null,
      "outputs": [
        {
          "output_type": "stream",
          "name": "stdout",
          "text": [
            "Digite a nota A: 5\n",
            "Digite a nota B: 6\n",
            "A média ponderada é: 5.6\n",
            "O aluno foi aprovado\n"
          ]
        }
      ]
    },
    {
      "cell_type": "markdown",
      "source": [
        "# **EXEMPLO 3**\n",
        "Dado o algoritimo a seguir, elabore o código python do programa em questão\n",
        " 03) Dado o algoritmo a seguir, elabore o código python do programa em questão:\n",
        "\n",
        "Início\n",
        "\n",
        "Leia os três valores: a, b e c.\n",
        "\n",
        "Compare os valores:\n",
        "\n",
        "Se a é menor ou igual a b e a é menor ou igual a c, então\n",
        "\n",
        "a é o menor valor.\n",
        "\n",
        "Caso contrário, se b é menor ou igual a a e b é menor ou igual a c, entãob é o menor valor.\n",
        "\n",
        "Caso contrário,\n",
        "\n",
        "c é o menor valor.\n",
        "\n",
        "Exiba o menor valor.\n",
        "\n",
        "Fim"
      ],
      "metadata": {
        "id": "LopH1c2FxSVA"
      }
    },
    {
      "cell_type": "code",
      "source": [
        "#\n",
        "a = float(input(\"Digite o valor de a: \"))\n",
        "b = float(input(\"Digite o valor de b: \"))\n",
        "c = float(input(\"Digite o valor de c: \"))\n",
        "\n",
        "#Compare os valores:\n",
        "if a <= b and a <= c:\n",
        "    menor = a\n",
        "elif b <= a and b <= c:\n",
        "    menor = b\n",
        "else:\n",
        "    menor = c\n",
        "\n",
        "#Exiba o menor valor.\n",
        "print(\"O menor valor é:\", menor)"
      ],
      "metadata": {
        "colab": {
          "base_uri": "https://localhost:8080/"
        },
        "id": "iWjNlNIDyCG1",
        "outputId": "c3147bf1-9e83-44ae-a65b-ad432bcd3be6"
      },
      "execution_count": null,
      "outputs": [
        {
          "output_type": "stream",
          "name": "stdout",
          "text": [
            "Digite o valor de a: 5\n",
            "Digite o valor de b: 2\n",
            "Digite o valor de c: 8\n",
            "O menor valor é: 2.0\n"
          ]
        }
      ]
    }
  ]
}